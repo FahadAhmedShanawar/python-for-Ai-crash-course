{
  "nbformat": 4,
  "nbformat_minor": 0,
  "metadata": {
    "colab": {
      "provenance": []
    },
    "kernelspec": {
      "name": "python3",
      "display_name": "Python 3"
    },
    "language_info": {
      "name": "python"
    }
  },
  "cells": [
    {
      "cell_type": "markdown",
      "source": [],
      "metadata": {
        "id": "vAESvyQmyZqM"
      }
    },
    {
      "cell_type": "markdown",
      "source": [
        "# What Are Variables?\n"
      ],
      "metadata": {
        "id": "ZJlvTR3Szj3Z"
      }
    },
    {
      "cell_type": "markdown",
      "source": [],
      "metadata": {
        "id": "SJPf7qo20A8a"
      }
    },
    {
      "cell_type": "code",
      "execution_count": 1,
      "metadata": {
        "colab": {
          "base_uri": "https://localhost:8080/"
        },
        "id": "gUaDKc5RwzDs",
        "outputId": "3c4f9c14-aace-46c3-eec4-b9bef5fcb559"
      },
      "outputs": [
        {
          "output_type": "stream",
          "name": "stdout",
          "text": [
            "Fahad\n",
            "25\n",
            "After birthday: 26\n"
          ]
        }
      ],
      "source": [
        "# Creating a variable to store a name\n",
        "name = \"Fahad\"  # String data type (text)\n",
        "\n",
        "# Creating a variable to store age\n",
        "age = 25  # Integer data type (whole number)\n",
        "\n",
        "# Printing values stored in variables\n",
        "print(name)  # Output will be: Gul\n",
        "print(age)   # Output will be: 25\n",
        "\n",
        "# Updating age variable\n",
        "age = 26  # We updated the value of age from 25 to 26\n",
        "print(\"After birthday:\", age)  # Output will be: After birthday: 26\n"
      ]
    },
    {
      "cell_type": "markdown",
      "source": [
        "# 2. Data Types\n"
      ],
      "metadata": {
        "id": "2kFSCg6h0KR-"
      }
    },
    {
      "cell_type": "code",
      "source": [
        "# Integer (whole number)\n",
        "count = 10\n",
        "\n",
        "# Float (decimal number)\n",
        "price = 19.99\n",
        "\n",
        "# String (text)\n",
        "message = \"Hello!\"\n",
        "\n",
        "# Boolean (True or False)\n",
        "is_student = True\n",
        "\n",
        "# Check data types of the variables using type()\n",
        "print(type(count))       # Output: <class 'int'>\n",
        "print(type(price))       # Output: <class 'float'>\n",
        "print(type(message))     # Output: <class 'str'>\n",
        "print(type(is_student))  # Output: <class 'bool'>\n",
        "\n",
        "# Using variables in a sentence\n",
        "print(\"Items:\", count, \"Price:\", price)  # Output: Items: 10 Price: 19.99\n",
        "print(\"Message:\", message, \"Student?\", is_student)  # Output: Message: Hello! Student? True\n"
      ],
      "metadata": {
        "colab": {
          "base_uri": "https://localhost:8080/"
        },
        "id": "cRMUxBViw3AC",
        "outputId": "8760dfdf-e69f-4f27-8832-dde3d01cf2b2"
      },
      "execution_count": null,
      "outputs": [
        {
          "output_type": "stream",
          "name": "stdout",
          "text": [
            "<class 'int'>\n",
            "<class 'float'>\n",
            "<class 'str'>\n",
            "<class 'bool'>\n",
            "Items: 10 Price: 19.99\n",
            "Message: Hello! Student? True\n"
          ]
        }
      ]
    },
    {
      "cell_type": "markdown",
      "source": [],
      "metadata": {
        "id": "aP4sC8HrxB53"
      }
    },
    {
      "cell_type": "markdown",
      "source": [
        "# Try it: Your Age and Height"
      ],
      "metadata": {
        "id": "qAnmD0H80V6y"
      }
    },
    {
      "cell_type": "code",
      "source": [
        "# Creating age (int) and height (float)\n",
        "my_age = 15  # Integer\n",
        "my_height = 5.7  # Float\n",
        "\n",
        "# Printing values and types\n",
        "print(\"My Age:\", my_age)             # Output: My Age: 15\n",
        "print(\"My Height:\", my_height)       # Output: My Height: 5.7\n",
        "print(type(my_age))                  # Output: <class 'int'>\n",
        "print(type(my_height))               # Output: <class 'float'>\n"
      ],
      "metadata": {
        "colab": {
          "base_uri": "https://localhost:8080/"
        },
        "id": "e2lTJ88Ky4qE",
        "outputId": "9508ebcd-5b92-41b7-e462-e7b81d3a31e9"
      },
      "execution_count": null,
      "outputs": [
        {
          "output_type": "stream",
          "name": "stdout",
          "text": [
            "My Age: 15\n",
            "My Height: 5.7\n",
            "<class 'int'>\n",
            "<class 'float'>\n"
          ]
        }
      ]
    },
    {
      "cell_type": "markdown",
      "source": [
        "# 3. Operators"
      ],
      "metadata": {
        "id": "5A_RwCOo0cWO"
      }
    },
    {
      "cell_type": "code",
      "source": [
        "# Arithmetic Operators\n",
        "a = 10\n",
        "b = 3\n",
        "\n",
        "print(\"Addition:\", a + b)        # 10 + 3 = 13\n",
        "print(\"Subtraction:\", a - b)     # 10 - 3 = 7\n",
        "print(\"Multiplication:\", a * b)  # 10 * 3 = 30\n",
        "print(\"Division:\", a / b)        # 10 / 3 = 3.333... (Float division)\n",
        "print(\"Integer Division:\", a // b)  # 10 // 3 = 3 (removes decimal)\n",
        "print(\"Modulus:\", a % b)         # 10 % 3 = 1 (remainder)\n",
        "print(\"Power:\", a ** 2)          # 10^2 = 100\n",
        "\n",
        "# Comparison Operators\n",
        "print(\"Is a equal to b?\", a == b)    # False because 10 is not equal to 3\n",
        "print(\"Is a greater than b?\", a > b) # True because 10 is greater than 3\n",
        "\n",
        "# Logical Operators\n",
        "x = True\n",
        "y = False\n",
        "\n",
        "print(\"x and y:\", x and y)  # False (both need to be True)\n",
        "print(\"x or y:\", x or y)    # True (at least one is True)\n",
        "print(\"not x:\", not x)      # False (opposite of True)\n"
      ],
      "metadata": {
        "colab": {
          "base_uri": "https://localhost:8080/"
        },
        "id": "fqX3a7nfy4a3",
        "outputId": "2a0a67d4-d0f4-4994-f042-d66fa4474404"
      },
      "execution_count": null,
      "outputs": [
        {
          "output_type": "stream",
          "name": "stdout",
          "text": [
            "Addition: 13\n",
            "Subtraction: 7\n",
            "Multiplication: 30\n",
            "Division: 3.3333333333333335\n",
            "Integer Division: 3\n",
            "Modulus: 1\n",
            "Power: 100\n",
            "Is a equal to b? False\n",
            "Is a greater than b? True\n",
            "x and y: False\n",
            "x or y: True\n",
            "not x: False\n"
          ]
        }
      ]
    },
    {
      "cell_type": "markdown",
      "source": [
        "# 4. Practice Exercise 1: Area of Rectangle"
      ],
      "metadata": {
        "id": "irx3FMgi0e7V"
      }
    },
    {
      "cell_type": "code",
      "source": [
        "# Create variables for length and width\n",
        "length = 5\n",
        "width = 10\n",
        "\n",
        "# Calculate area using multiplication\n",
        "area = length * width\n",
        "\n",
        "# Print the result in a full sentence\n",
        "print(\"The area is\", area, \"square units.\")  # Output: The area is 50 square units.\n"
      ],
      "metadata": {
        "colab": {
          "base_uri": "https://localhost:8080/"
        },
        "id": "MluNPoCOzD-I",
        "outputId": "b6eea879-7f69-4c63-bdf2-b683fe233e37"
      },
      "execution_count": null,
      "outputs": [
        {
          "output_type": "stream",
          "name": "stdout",
          "text": [
            "The area is 50 square units.\n"
          ]
        }
      ]
    },
    {
      "cell_type": "markdown",
      "source": [],
      "metadata": {
        "id": "8y5SGKDu0jVM"
      }
    },
    {
      "cell_type": "markdown",
      "source": [
        "# 5. Practice Exercise 2: Swap Two Variables"
      ],
      "metadata": {
        "id": "tCguPm_K0nlA"
      }
    },
    {
      "cell_type": "code",
      "source": [
        "# Create variables with initial values\n",
        "x = 100\n",
        "y = 200\n",
        "\n",
        "# Print before swapping\n",
        "print(\"Before: x =\", x, \"y =\", y)  # Output: x = 100, y = 200\n",
        "\n",
        "# Swap values using a temporary variable\n",
        "temp = x    # temp now has 100\n",
        "x = y       # x gets value of y (200)\n",
        "y = temp    # y gets value from temp (100)\n",
        "\n",
        "# Print after swapping\n",
        "print(\"After: x =\", x, \"y =\", y)  # Output: x = 200, y = 100\n"
      ],
      "metadata": {
        "colab": {
          "base_uri": "https://localhost:8080/"
        },
        "id": "ADdXN22zy4NV",
        "outputId": "c9250c37-0804-4566-82b1-0d0d4a74009e"
      },
      "execution_count": null,
      "outputs": [
        {
          "output_type": "stream",
          "name": "stdout",
          "text": [
            "Before: x = 100 y = 200\n",
            "After: x = 200 y = 100\n"
          ]
        }
      ]
    },
    {
      "cell_type": "code",
      "source": [],
      "metadata": {
        "id": "JxEgO1up0mFD"
      },
      "execution_count": null,
      "outputs": []
    },
    {
      "cell_type": "markdown",
      "source": [
        "# 6. Bonus: Even Number Check"
      ],
      "metadata": {
        "id": "LONEdomo037V"
      }
    },
    {
      "cell_type": "code",
      "source": [
        "# Create a variable with any integer\n",
        "number = 17\n",
        "\n",
        "# Check if the number is even using modulus (%)\n",
        "is_even = number % 2 == 0  # True if divisible by 2, else False\n",
        "\n",
        "# Print the result\n",
        "print(is_even)  # Output: False because 17 is an odd number\n",
        "\n",
        "\n"
      ],
      "metadata": {
        "colab": {
          "base_uri": "https://localhost:8080/"
        },
        "id": "CH1x0nTFy3y6",
        "outputId": "140ebd47-0bf8-49a2-8d45-d01654413caf"
      },
      "execution_count": null,
      "outputs": [
        {
          "output_type": "stream",
          "name": "stdout",
          "text": [
            "False\n",
            "True\n"
          ]
        }
      ]
    },
    {
      "cell_type": "code",
      "source": [
        "number = 16\n",
        "print(number % 2 == 0)  # Output: True\n"
      ],
      "metadata": {
        "colab": {
          "base_uri": "https://localhost:8080/"
        },
        "id": "mM667sDCzRN0",
        "outputId": "b743c857-862a-4c5e-f8a8-882f2be6f381"
      },
      "execution_count": null,
      "outputs": [
        {
          "output_type": "stream",
          "name": "stdout",
          "text": [
            "True\n"
          ]
        }
      ]
    },
    {
      "cell_type": "markdown",
      "source": [],
      "metadata": {
        "id": "Rl0sV50E0qWY"
      }
    },
    {
      "cell_type": "markdown",
      "source": [
        "# Homework Suggestions (Optional)"
      ],
      "metadata": {
        "id": "Vi-v5bQj1DLD"
      }
    },
    {
      "cell_type": "code",
      "source": [
        "# Favorite number and movie\n",
        "fav_number = 7\n",
        "fav_movie = \"Interstellar\"\n",
        "\n",
        "# Print them\n",
        "print(\"Favorite number:\", fav_number)\n",
        "print(\"Favorite movie:\", fav_movie)\n",
        "\n",
        "# Experiment: Division by zero\n",
        "# This will give an error: ZeroDivisionError: division by zero\n",
        "# Uncomment below line to see the error\n",
        "# print(10 / 0)\n"
      ],
      "metadata": {
        "colab": {
          "base_uri": "https://localhost:8080/"
        },
        "id": "vAon6FyGzSy7",
        "outputId": "a300135c-5840-43fb-b34f-50c939204fc3"
      },
      "execution_count": null,
      "outputs": [
        {
          "output_type": "stream",
          "name": "stdout",
          "text": [
            "Favorite number: 7\n",
            "Favorite movie: Interstellar\n"
          ]
        }
      ]
    },
    {
      "cell_type": "code",
      "source": [],
      "metadata": {
        "id": "FtWID_9HzclW"
      },
      "execution_count": null,
      "outputs": []
    }
  ]
}