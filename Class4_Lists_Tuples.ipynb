{
  "cells": [
    {
      "cell_type": "markdown",
      "metadata": {
        "id": "ncqThnnpJwx2"
      },
      "source": [
        "## Class 4: Lists and Tuples in Python\n",
        "\n",
        "Welcome to Week 2 of our Python course!  \n",
        "Today we will learn about **lists** and **tuples** — two important ways to store and organize data in Python.\n",
        "\n",
        "By the end of this class, you will be able to:\n",
        "- Make and change lists and tuples.\n",
        "- Pick certain items using indexing and slicing.\n",
        "- Use useful list functions and go through items one by one using loops.\n",
        "\n"
      ]
    },
    {
      "cell_type": "markdown",
      "metadata": {
        "id": "FPxnyHvwJwx-"
      },
      "source": [
        "## 1. What are Lists and Tuples?\n",
        "\n",
        "- **Lists** are a set of items in order that you can change. Like a shopping list where you can add or remove things.\n",
        "- **Tuples** are also a set of items in order, but you **can’t change** them. Like a pair of fixed values (such as (x, y) points on a map).\n",
        "\n",
        "Both lists and tuples can hold many items like numbers, words, or even other lists and tuples.\n"
      ]
    },
    {
      "cell_type": "markdown",
      "source": [],
      "metadata": {
        "id": "lpoqWmJ8RGJC"
      }
    },
    {
      "cell_type": "code",
      "execution_count": 1,
      "metadata": {
        "id": "3fPua5jKJwyA",
        "outputId": "26813bfe-4ead-4159-bea8-b5fa70c0e6ea",
        "colab": {
          "base_uri": "https://localhost:8080/"
        }
      },
      "outputs": [
        {
          "output_type": "stream",
          "name": "stdout",
          "text": [
            "Fruits list: ['mango', 'grape', 'melon']\n",
            "Coordinates tuple: (7, 9)\n"
          ]
        }
      ],
      "source": [
        "fruits = [\"mango\", \"grape\", \"melon\"]\n",
        "coordinates = (7, 9)\n",
        "\n",
        "print(\"Fruits list:\", fruits)\n",
        "print(\"Coordinates tuple:\", coordinates)\n"
      ]
    },
    {
      "cell_type": "markdown",
      "metadata": {
        "id": "ySersSuSJwyD"
      },
      "source": [
        "## 2. Indexing and Slicing\n",
        "\n",
        "- **Indexing** means picking one item from a list or tuple using its position (the first item is at position 0).\n",
        "- **Slicing** means picking a part (a range) of items using `start:end` — it includes the start, but not the end.\n"
      ]
    },
    {
      "cell_type": "code",
      "execution_count": 2,
      "metadata": {
        "id": "lsWQPf6XJwyE",
        "outputId": "10bef9be-ecf9-4155-a767-167cd9e4f08d",
        "colab": {
          "base_uri": "https://localhost:8080/"
        }
      },
      "outputs": [
        {
          "output_type": "stream",
          "name": "stdout",
          "text": [
            "First color: red\n",
            "Last color: yellow\n",
            "First two colors: ['red', 'blue']\n",
            "All but first: ['blue', 'green', 'yellow']\n"
          ]
        }
      ],
      "source": [
        "colors = [\"red\", \"blue\", \"green\", \"yellow\"]\n",
        "\n",
        "# Indexing\n",
        "print(\"First color:\", colors[0])\n",
        "print(\"Last color:\", colors[-1])\n",
        "\n",
        "# Slicing\n",
        "print(\"First two colors:\", colors[0:2])\n",
        "print(\"All but first:\", colors[1:])\n"
      ]
    },
    {
      "cell_type": "markdown",
      "metadata": {
        "id": "sFpoaEjjJwyG"
      },
      "source": [
        "### Try It Yourself: Indexing and Slicing\n",
        "\n",
        "1. Make a list named `numbers` with these values: `[10, 20, 30, 40, 50]`.\n",
        "2. Show the third number in the list.\n",
        "3. Show the last two numbers using slicing.\n",
        "\n"
      ]
    },
    {
      "cell_type": "code",
      "execution_count": 3,
      "metadata": {
        "id": "J1nOu2y5JwyI",
        "outputId": "b56c7b5a-3d3e-4d6b-9e28-88ad4f92f82e",
        "colab": {
          "base_uri": "https://localhost:8080/"
        }
      },
      "outputs": [
        {
          "output_type": "stream",
          "name": "stdout",
          "text": [
            "Third number: 25\n",
            "Last two numbers: [35, 45]\n"
          ]
        }
      ],
      "source": [
        "digits = [5, 15, 25, 35, 45]\n",
        "print(\"Third number:\", digits[2])\n",
        "print(\"Last two numbers:\", digits[-2:])\n"
      ]
    },
    {
      "cell_type": "markdown",
      "metadata": {
        "id": "xpa6gjQJJwyJ"
      },
      "source": [
        "## 3. List Methods\n",
        "\n",
        "Lists have special tools (called methods) to help you change them. You can add, remove, or sort items. Some common methods are:\n",
        "\n",
        "- `append(item)`: Adds an item at the end of the list.\n",
        "- `remove(item)`: Removes the first time that item appears.\n",
        "- `sort()`: Arranges the list in order (like smallest to biggest).\n",
        "- `pop()`: Takes out and gives back the last item.\n"
      ]
    },
    {
      "cell_type": "code",
      "execution_count": 4,
      "metadata": {
        "id": "f8H5vcoEJwyL",
        "outputId": "7bd91967-ddb1-4df8-b336-32a0f0a1c7ea",
        "colab": {
          "base_uri": "https://localhost:8080/"
        }
      },
      "outputs": [
        {
          "output_type": "stream",
          "name": "stdout",
          "text": [
            "Original list: ['car', 'bike', 'bus']\n",
            "After append: ['car', 'bike', 'bus', 'train']\n",
            "After remove: ['car', 'bus', 'train']\n",
            "After sort: ['bus', 'car', 'train']\n",
            "Popped item: train\n",
            "Final list: ['bus', 'car']\n"
          ]
        }
      ],
      "source": [
        "vehicles = [\"car\", \"bike\", \"bus\"]\n",
        "print(\"Original list:\", vehicles)\n",
        "\n",
        "# Add an item\n",
        "vehicles.append(\"train\")\n",
        "print(\"After append:\", vehicles)\n",
        "\n",
        "# Remove an item\n",
        "vehicles.remove(\"bike\")\n",
        "print(\"After remove:\", vehicles)\n",
        "\n",
        "# Sort the list\n",
        "vehicles.sort()\n",
        "print(\"After sort:\", vehicles)\n",
        "\n",
        "# Pop the last item\n",
        "last_vehicle = vehicles.pop()\n",
        "print(\"Popped item:\", last_vehicle)\n",
        "print(\"Final list:\", vehicles)\n"
      ]
    },
    {
      "cell_type": "markdown",
      "metadata": {
        "id": "M56FnFg2JwyM"
      },
      "source": [
        "### Try It Yourself: List Methods\n"
      ]
    },
    {
      "cell_type": "code",
      "execution_count": 5,
      "metadata": {
        "id": "BnUo_ypLJwyN",
        "outputId": "6cc57918-d5a4-4e52-8b6d-54414ee2d0eb",
        "colab": {
          "base_uri": "https://localhost:8080/"
        }
      },
      "outputs": [
        {
          "output_type": "stream",
          "name": "stdout",
          "text": [
            "Popped mark: 90\n",
            "Sorted list: [66, 70, 75, 83]\n"
          ]
        }
      ],
      "source": [
        "marks = [70, 83, 66, 90]\n",
        "marks.append(75)\n",
        "marks.sort()\n",
        "top_mark = marks.pop()\n",
        "print(\"Popped mark:\", top_mark)\n",
        "print(\"Sorted list:\", marks)\n"
      ]
    },
    {
      "cell_type": "markdown",
      "metadata": {
        "id": "GmV3LA4WJwyO"
      },
      "source": [
        "## 4. Tuples: The Immutable Cousin\n",
        "\n",
        "Tuples are like lists but **cannot be changed** after creation. They're great for fixed data, like coordinates or days of the week."
      ]
    },
    {
      "cell_type": "code",
      "execution_count": 6,
      "metadata": {
        "id": "M2s70Dg2JwyP",
        "outputId": "e511f786-11da-4fe6-cff5-0b161dc5bf04",
        "colab": {
          "base_uri": "https://localhost:8080/"
        }
      },
      "outputs": [
        {
          "output_type": "stream",
          "name": "stdout",
          "text": [
            "Latitude: 12\n",
            "Longitude: 24\n",
            "Error: 'tuple' object does not support item assignment\n",
            "Slice of tuple: (12,)\n"
          ]
        }
      ],
      "source": [
        "location = (12, 24)\n",
        "print(\"Latitude:\", location[0])\n",
        "print(\"Longitude:\", location[1])\n",
        "\n",
        "try:\n",
        "    location[0] = 18\n",
        "except TypeError as e:\n",
        "    print(\"Error:\", e)\n",
        "\n",
        "print(\"Slice of tuple:\", location[0:1])\n"
      ]
    },
    {
      "cell_type": "markdown",
      "metadata": {
        "id": "MaCP9ZrtJwyQ"
      },
      "source": [
        "### Try It Yourself: Tuples\n"
      ]
    },
    {
      "cell_type": "code",
      "execution_count": 7,
      "metadata": {
        "id": "UISZ56kNJwyQ",
        "outputId": "13c4dbfa-68af-4d66-d911-497dcb6cbc2d",
        "colab": {
          "base_uri": "https://localhost:8080/"
        }
      },
      "outputs": [
        {
          "output_type": "stream",
          "name": "stdout",
          "text": [
            "Second shade: white\n",
            "Error: 'tuple' object does not support item assignment\n"
          ]
        }
      ],
      "source": [
        "shades = (\"black\", \"white\", \"gray\")\n",
        "print(\"Second shade:\", shades[1])\n",
        "\n",
        "try:\n",
        "    shades[0] = \"silver\"\n",
        "except TypeError as e:\n",
        "    print(\"Error:\", e)\n"
      ]
    },
    {
      "cell_type": "markdown",
      "metadata": {
        "id": "u4KCTdtcJwyR"
      },
      "source": [
        "## 5. Iterating Over Lists and Tuples\n",
        "\n",
        "Use a `for` loop to process each item in a list or tuple."
      ]
    },
    {
      "cell_type": "code",
      "execution_count": 8,
      "metadata": {
        "id": "zLHbaaU1JwyR",
        "outputId": "f6d310d8-bdbd-4645-e195-fb37b71d11d6",
        "colab": {
          "base_uri": "https://localhost:8080/"
        }
      },
      "outputs": [
        {
          "output_type": "stream",
          "name": "stdout",
          "text": [
            "Exploring: Pakistan\n",
            "Exploring: Turkey\n",
            "Exploring: Japan\n",
            "Point: 4\n",
            "Point: 5\n",
            "Point: 6\n"
          ]
        }
      ],
      "source": [
        "countries = [\"Pakistan\", \"Turkey\", \"Japan\"]\n",
        "for country in countries:\n",
        "    print(\"Exploring:\", country)\n",
        "\n",
        "points = (4, 5, 6)\n",
        "for point in points:\n",
        "    print(\"Point:\", point)\n"
      ]
    },
    {
      "cell_type": "markdown",
      "metadata": {
        "id": "Lxf0D0uvJwyS"
      },
      "source": [
        "### Try It Yourself: Iteration\n"
      ]
    },
    {
      "cell_type": "code",
      "execution_count": null,
      "metadata": {
        "id": "F36S2pKRJwyS"
      },
      "outputs": [],
      "source": [
        "# Your code here\n",
        "hobbies = [\"reading\", \"gaming\", \"hiking\"]\n",
        "for hobby in hobbies:\n",
        "    print(\"I love to\", hobby)"
      ]
    },
    {
      "cell_type": "markdown",
      "metadata": {
        "id": "zXs_0J93JwyT"
      },
      "source": [
        "## 6. Mini-Challenge: Putting It All Together\n",
        "\n"
      ]
    },
    {
      "cell_type": "code",
      "execution_count": 9,
      "metadata": {
        "colab": {
          "base_uri": "https://localhost:8080/"
        },
        "id": "oHect4jjJwyT",
        "outputId": "3d1dc177-05aa-449c-8056-d7cc3d8e098d"
      },
      "outputs": [
        {
          "output_type": "stream",
          "name": "stdout",
          "text": [
            "Tuple of first two: ('diary', 'folder')\n",
            "Item: diary\n",
            "Item: folder\n",
            "Item: marker\n",
            "Item: scale\n",
            "Item: sharpener\n"
          ]
        }
      ],
      "source": [
        "products = [\"marker\", \"folder\", \"scale\", \"sharpener\"]\n",
        "products.append(\"diary\")\n",
        "products.sort()\n",
        "products_tuple = tuple(products[0:2])\n",
        "print(\"Tuple of first two:\", products_tuple)\n",
        "\n",
        "for product in products:\n",
        "    print(\"Item:\", product)\n"
      ]
    },
    {
      "cell_type": "markdown",
      "metadata": {
        "id": "8xpaA7O_JwyU"
      },
      "source": [
        "## Wrap-Up\n",
        "\n",
        "Great job! You've learned:\n",
        "- How to create and manipulate lists and tuples.\n",
        "- Indexing and slicing to access elements.\n",
        "- Common list methods like append, remove, sort, and pop.\n",
        "- Iterating over lists and tuples with for loops.\n",
        "\n",
        "**Homework**: Experiment with a new list of your choice (e.g., favorite foods). Try adding, removing, and sorting items, then print them with a loop.\n",
        "\n",
        "See you in Class 5!"
      ]
    }
  ],
  "metadata": {
    "kernelspec": {
      "display_name": "Python 3",
      "language": "python",
      "name": "python3"
    },
    "language_info": {
      "codemirror_mode": {
        "name": "ipython",
        "version": 3
      },
      "file_extension": ".py",
      "mimetype": "text/x-python",
      "name": "python",
      "nbconvert_exporter": "python",
      "pygments_lexer": "ipython3",
      "version": "3.8.5"
    },
    "colab": {
      "provenance": []
    }
  },
  "nbformat": 4,
  "nbformat_minor": 0
}