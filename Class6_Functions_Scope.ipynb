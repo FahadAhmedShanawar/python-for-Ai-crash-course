{
  "cells": [
    {
      "cell_type": "markdown",
      "metadata": {
        "id": "OPrNqMxwMIYN"
      },
      "source": [
        "# Class 6: Functions and Scope in Python\n",
        "\n",
        "Welcome to Class 6 of Week 2! Today, we'll learn about **functions** and **scope**, which let you write reusable, organized code. By the end of this notebook, you'll be able to:\n",
        "- Define functions with parameters and return values.\n",
        "- Use default and keyword arguments.\n",
        "- Understand local and global variable scope.\n",
        "\n",
        "Let's get started!"
      ]
    },
    {
      "cell_type": "markdown",
      "metadata": {
        "id": "wEjUx1XMMIYX"
      },
      "source": [
        "## 1. What are Functions?\n",
        "\n",
        "**Functions**"
      ]
    },
    {
      "cell_type": "code",
      "execution_count": 1,
      "metadata": {
        "id": "nBwXwKvbMIYZ",
        "outputId": "5f6ff581-baf1-41d5-cd8b-c6c0a3062404",
        "colab": {
          "base_uri": "https://localhost:8080/"
        }
      },
      "outputs": [
        {
          "output_type": "stream",
          "name": "stdout",
          "text": [
            "Hi, Fahad!\n",
            "Hi, Hassan!\n"
          ]
        }
      ],
      "source": [
        "def welcome(person):\n",
        "    text = f\"Hi, {person}!\"\n",
        "    return text\n",
        "\n",
        "print(welcome(\"Fahad\"))\n",
        "print(welcome(\"Hassan\"))\n"
      ]
    },
    {
      "cell_type": "markdown",
      "metadata": {
        "id": "hc0CFtFuMIYb"
      },
      "source": [
        "## 2. Function Basics\n",
        "\n",
        "- **Parameters**\n",
        "- **Arguments**\n",
        "- **Return**"
      ]
    },
    {
      "cell_type": "code",
      "execution_count": 2,
      "metadata": {
        "colab": {
          "base_uri": "https://localhost:8080/"
        },
        "id": "PiKJ44qjMIYe",
        "outputId": "8e63b6f4-c347-4c41-b918-32020d269edf"
      },
      "outputs": [
        {
          "output_type": "stream",
          "name": "stdout",
          "text": [
            "Total 1: 11\n",
            "Total 2: 40\n",
            "Hi, universe!\n",
            "Return value: None\n"
          ]
        }
      ],
      "source": [
        "def total_values(x, y):\n",
        "    output = x + y\n",
        "    return output\n",
        "\n",
        "value1 = total_values(7, 4)\n",
        "value2 = total_values(15, 25)\n",
        "\n",
        "print(\"Total 1:\", value1)\n",
        "print(\"Total 2:\", value2)\n",
        "\n",
        "def greet_world():\n",
        "    print(\"Hi, universe!\")\n",
        "\n",
        "response = greet_world()\n",
        "print(\"Return value:\", response)\n"
      ]
    },
    {
      "cell_type": "markdown",
      "metadata": {
        "id": "EbHGXisKMIYf"
      },
      "source": []
    },
    {
      "cell_type": "code",
      "execution_count": 3,
      "metadata": {
        "id": "2mfmXVi1MIYg",
        "outputId": "6f504603-f8ba-4f59-d3c3-a84b0b4c7ae3",
        "colab": {
          "base_uri": "https://localhost:8080/"
        }
      },
      "outputs": [
        {
          "output_type": "stream",
          "name": "stdout",
          "text": [
            "Result: 42\n",
            "Greetings!\n"
          ]
        }
      ],
      "source": [
        "def product(x, y):\n",
        "    return x * y\n",
        "\n",
        "print(\"Result:\", product(6, 7))\n",
        "\n",
        "def greet():\n",
        "    print(\"Greetings!\")\n",
        "\n",
        "greet()\n"
      ]
    },
    {
      "cell_type": "markdown",
      "metadata": {
        "id": "K70Bb6HqMIYh"
      },
      "source": [
        "## 3. Default and Keyword Arguments\n",
        "\n",
        "- **Default Arguments**: Parameters with preset values, used if no argument is provided.\n",
        "- **Keyword Arguments**: Specify arguments by name, allowing flexible order."
      ]
    },
    {
      "cell_type": "code",
      "execution_count": 4,
      "metadata": {
        "id": "keTMxYVGMIYj",
        "outputId": "7e82a810-ea99-41d7-e7b2-e97c4d18647e",
        "colab": {
          "base_uri": "https://localhost:8080/"
        }
      },
      "outputs": [
        {
          "output_type": "stream",
          "name": "stdout",
          "text": [
            "Square of 6: 36\n",
            "6 cubed: 216\n",
            "6 to power 4: 1296\n",
            "Same, reversed: 1296\n"
          ]
        }
      ],
      "source": [
        "def raise_to(num, degree=2):\n",
        "    return num ** degree\n",
        "\n",
        "print(\"Square of 6:\", raise_to(6))\n",
        "print(\"6 cubed:\", raise_to(6, 3))\n",
        "print(\"6 to power 4:\", raise_to(num=6, degree=4))\n",
        "print(\"Same, reversed:\", raise_to(degree=4, num=6))\n"
      ]
    },
    {
      "cell_type": "markdown",
      "metadata": {
        "id": "TdGflzFuMIYk"
      },
      "source": []
    },
    {
      "cell_type": "code",
      "execution_count": 5,
      "metadata": {
        "id": "QANNo6OcMIYl",
        "outputId": "56cbc1e2-9054-4d9b-e034-b7f29f8c7d66",
        "colab": {
          "base_uri": "https://localhost:8080/"
        }
      },
      "outputs": [
        {
          "output_type": "stream",
          "name": "stdout",
          "text": [
            "Fee on 150: 12.0\n",
            "Fee on 300 at 12%: 36.0\n"
          ]
        }
      ],
      "source": [
        "def compute_fee(price, percent=0.08):\n",
        "    return price * percent\n",
        "\n",
        "print(\"Fee on 150:\", compute_fee(150))\n",
        "print(\"Fee on 300 at 12%:\", compute_fee(300, percent=0.12))\n"
      ]
    },
    {
      "cell_type": "markdown",
      "metadata": {
        "id": "HbVwQzWEMIYm"
      },
      "source": [
        "## 4. Scope: Local vs. Global Variables\n",
        "\n",
        "- **Scope**: Where a variable is accessible.\n",
        "- **Local**: Variables defined inside a function, only usable there.\n",
        "- **Global**: Variables defined outside functions, accessible everywhere (but avoid modifying inside functions)."
      ]
    },
    {
      "cell_type": "code",
      "execution_count": 6,
      "metadata": {
        "id": "iu42OuV2MIYn",
        "outputId": "8020c697-ae98-42be-faa0-1ecace6f025e",
        "colab": {
          "base_uri": "https://localhost:8080/"
        }
      },
      "outputs": [
        {
          "output_type": "stream",
          "name": "stdout",
          "text": [
            "Output: 11\n",
            "Global num: 20\n",
            "Inside function, global num: 20\n"
          ]
        }
      ],
      "source": [
        "num = 20\n",
        "\n",
        "def combine_local(val):\n",
        "    num = 7\n",
        "    return num + val\n",
        "\n",
        "print(\"Output:\", combine_local(4))\n",
        "print(\"Global num:\", num)\n",
        "\n",
        "def display_global():\n",
        "    print(\"Inside function, global num:\", num)\n",
        "\n",
        "display_global()\n"
      ]
    },
    {
      "cell_type": "markdown",
      "metadata": {
        "id": "6kc70EXfMIYo"
      },
      "source": []
    },
    {
      "cell_type": "code",
      "execution_count": 7,
      "metadata": {
        "id": "i7pp3ARsMIYp",
        "outputId": "eb708668-6b32-46e0-d669-44f7423dcede",
        "colab": {
          "base_uri": "https://localhost:8080/"
        }
      },
      "outputs": [
        {
          "output_type": "stream",
          "name": "stdout",
          "text": [
            "Function result: 95\n",
            "Global total: 200\n"
          ]
        }
      ],
      "source": [
        "total = 200\n",
        "\n",
        "def increase():\n",
        "    total = 80\n",
        "    return total + 15\n",
        "\n",
        "print(\"Function result:\", increase())\n",
        "print(\"Global total:\", total)\n"
      ]
    },
    {
      "cell_type": "markdown",
      "metadata": {
        "id": "Xzz8Kgy9MIYq"
      },
      "source": [
        "## 5. Mini-Challenge: Putting It All Together\n"
      ]
    },
    {
      "cell_type": "code",
      "execution_count": 8,
      "metadata": {
        "id": "QxYdg4X9MIYr",
        "outputId": "285bf623-7c95-43a7-d2b9-7022f43c189c",
        "colab": {
          "base_uri": "https://localhost:8080/"
        }
      },
      "outputs": [
        {
          "output_type": "stream",
          "name": "stdout",
          "text": [
            "Civic (case-sensitive): False\n",
            "Civic (case-insensitive): True\n",
            "world: False\n"
          ]
        }
      ],
      "source": [
        "def check_mirror(word, match_case=True):\n",
        "    if not match_case:\n",
        "        word = word.lower()\n",
        "    return word == word[::-1]\n",
        "\n",
        "print(\"Civic (case-sensitive):\", check_mirror(\"Civic\"))\n",
        "print(\"Civic (case-insensitive):\", check_mirror(\"Civic\", match_case=False))\n",
        "print(\"world:\", check_mirror(\"world\"))\n"
      ]
    }
  ],
  "metadata": {
    "kernelspec": {
      "display_name": "Python 3",
      "language": "python",
      "name": "python3"
    },
    "language_info": {
      "codemirror_mode": {
        "name": "ipython",
        "version": 3
      },
      "file_extension": ".py",
      "mimetype": "text/x-python",
      "name": "python",
      "nbconvert_exporter": "python",
      "pygments_lexer": "ipython3",
      "version": "3.8.5"
    },
    "colab": {
      "provenance": []
    }
  },
  "nbformat": 4,
  "nbformat_minor": 0
}