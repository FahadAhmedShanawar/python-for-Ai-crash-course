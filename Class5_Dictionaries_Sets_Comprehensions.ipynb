{
  "cells": [
    {
      "cell_type": "markdown",
      "metadata": {
        "id": "2fVMXU5GKZyd"
      },
      "source": [
        "# Class 5: Dictionaries, Sets, and List Comprehensions in Python\n"
      ]
    },
    {
      "cell_type": "markdown",
      "metadata": {
        "id": "_PP3TMHUKZym"
      },
      "source": [
        "## 1. Dictionaries: Storing Key-Value Pairs\n",
        "\n",
        "- **Dictionaries** hold data using pairs: a key and a value (like a name and phone number).\n",
        "- Keys must be unique. Values can be anything (numbers, text, lists, etc.).\n",
        "- You get values by using the key, not by position.\n"
      ]
    },
    {
      "cell_type": "code",
      "execution_count": 1,
      "metadata": {
        "id": "CgqIarD9KZyp",
        "outputId": "ff7a58aa-c67a-4f3c-b909-b23febfb9a68",
        "colab": {
          "base_uri": "https://localhost:8080/"
        }
      },
      "outputs": [
        {
          "output_type": "stream",
          "name": "stdout",
          "text": [
            "Contacts: {'Ahmed': '321-7890', 'Hassan': '654-0987', 'Bilal': '777-2323'}\n",
            "Ahmed's number: 321-7890\n",
            "After adding Hanzala: {'Ahmed': '321-7890', 'Hassan': '654-0987', 'Bilal': '777-2323', 'Hanzala': '888-4444'}\n",
            "After updating Hassan: {'Ahmed': '321-7890', 'Hassan': '000-1234', 'Bilal': '777-2323', 'Hanzala': '888-4444'}\n"
          ]
        }
      ],
      "source": [
        "contacts = {\"Ahmed\": \"321-7890\", \"Hassan\": \"654-0987\", \"Bilal\": \"777-2323\"}\n",
        "print(\"Contacts:\", contacts)\n",
        "\n",
        "print(\"Ahmed's number:\", contacts[\"Ahmed\"])\n",
        "\n",
        "contacts[\"Hanzala\"] = \"888-4444\"\n",
        "print(\"After adding Hanzala:\", contacts)\n",
        "\n",
        "contacts[\"Hassan\"] = \"000-1234\"\n",
        "print(\"After updating Hassan:\", contacts)\n"
      ]
    },
    {
      "cell_type": "markdown",
      "metadata": {
        "id": "Km85lileKZyu"
      },
      "source": [
        "## 2. Dictionary Methods\n",
        "\n",
        "Dictionaries have useful methods:\n",
        "- `get(key, default)`: Safely get a value, return default if key is missing.\n",
        "- `keys()`: Get all keys.\n",
        "- `values()`: Get all values.\n",
        "- `pop(key)`: Remove a key-value pair and return the value."
      ]
    },
    {
      "cell_type": "code",
      "execution_count": 2,
      "metadata": {
        "id": "nzeI224BKZyy",
        "outputId": "56527314-472a-4e95-ae18-e7e1b0117196",
        "colab": {
          "base_uri": "https://localhost:8080/"
        }
      },
      "outputs": [
        {
          "output_type": "stream",
          "name": "stdout",
          "text": [
            "Computer score: Not available\n",
            "Subjects: dict_keys(['English', 'Biology', 'Geography'])\n",
            "Marks: dict_values([75, 88, 69])\n",
            "Removed Geography score: 69\n",
            "Updated marks: {'English': 75, 'Biology': 88}\n"
          ]
        }
      ],
      "source": [
        "marks = {\"English\": 75, \"Biology\": 88, \"Geography\": 69}\n",
        "\n",
        "print(\"Computer score:\", marks.get(\"Computer\", \"Not available\"))\n",
        "\n",
        "print(\"Subjects:\", marks.keys())\n",
        "print(\"Marks:\", marks.values())\n",
        "\n",
        "geo_score = marks.pop(\"Geography\")\n",
        "print(\"Removed Geography score:\", geo_score)\n",
        "print(\"Updated marks:\", marks)\n"
      ]
    },
    {
      "cell_type": "markdown",
      "metadata": {
        "id": "EVDanbJuKZy0"
      },
      "source": [
        "### Try It Yourself: Dictionaries\n"
      ]
    },
    {
      "cell_type": "code",
      "execution_count": 3,
      "metadata": {
        "id": "0A3FUuBxKZy2",
        "outputId": "eddd1ac5-2acf-4b7f-f863-8c4194002458",
        "colab": {
          "base_uri": "https://localhost:8080/"
        }
      },
      "outputs": [
        {
          "output_type": "stream",
          "name": "stdout",
          "text": [
            "Ahmed's number: 555-1111\n",
            "New contact added: {'Ahmed': '555-1111', 'Bilal': '555-2222', 'Kashif': '555-3333', 'Zain': '555-4444'}\n",
            "Hamza's number: Unknown\n"
          ]
        }
      ],
      "source": [
        "contacts = {\"Ahmed\": \"555-1111\", \"Bilal\": \"555-2222\", \"Kashif\": \"555-3333\"}\n",
        "print(\"Ahmed's number:\", contacts[\"Ahmed\"])\n",
        "contacts[\"Zain\"] = \"555-4444\"\n",
        "print(\"New contact added:\", contacts)\n",
        "print(\"Hamza's number:\", contacts.get(\"Hamza\", \"Unknown\"))\n"
      ]
    },
    {
      "cell_type": "markdown",
      "metadata": {
        "id": "8yikOWsXKZy5"
      },
      "source": [
        "## 3. Sets: Unique Elements\n",
        "\n",
        "- **Sets**: Store unique items, with no duplicates, in no particular order.\n"
      ]
    },
    {
      "cell_type": "code",
      "execution_count": 4,
      "metadata": {
        "id": "m8vEAT33KZy7",
        "outputId": "538284df-8185-41e2-a07f-98330c0b977a",
        "colab": {
          "base_uri": "https://localhost:8080/"
        }
      },
      "outputs": [
        {
          "output_type": "stream",
          "name": "stdout",
          "text": [
            "Group1: {5, 6, 7}\n",
            "Group2: {8, 9, 7}\n",
            "Union: {5, 6, 7, 8, 9}\n",
            "Intersection: {7}\n",
            "Difference (group1 - group2): {5, 6}\n"
          ]
        }
      ],
      "source": [
        "group1 = {5, 6, 6, 7}\n",
        "print(\"Group1:\", group1)\n",
        "\n",
        "group2 = {7, 8, 9}\n",
        "print(\"Group2:\", group2)\n",
        "\n",
        "print(\"Union:\", group1.union(group2))\n",
        "print(\"Intersection:\", group1.intersection(group2))\n",
        "print(\"Difference (group1 - group2):\", group1.difference(group2))\n"
      ]
    },
    {
      "cell_type": "markdown",
      "metadata": {
        "id": "XHbBmvDOKZy-"
      },
      "source": [
        "### Try It Yourself: Sets\n"
      ]
    },
    {
      "cell_type": "code",
      "execution_count": 5,
      "metadata": {
        "id": "iEyVtarmKZy_",
        "outputId": "d77036ce-eb0e-4590-8365-841e785f1527",
        "colab": {
          "base_uri": "https://localhost:8080/"
        }
      },
      "outputs": [
        {
          "output_type": "stream",
          "name": "stdout",
          "text": [
            "Items: {'mango', 'melon', 'grape'}\n",
            "Union: {'peach', 'melon', 'mango', 'grape'}\n",
            "Intersection: {'grape'}\n"
          ]
        }
      ],
      "source": [
        "items = {\"mango\", \"grape\", \"mango\", \"melon\"}\n",
        "liked = {\"grape\", \"peach\"}\n",
        "\n",
        "print(\"Items:\", items)\n",
        "print(\"Union:\", items.union(liked))\n",
        "print(\"Intersection:\", items.intersection(liked))\n"
      ]
    },
    {
      "cell_type": "markdown",
      "metadata": {
        "id": "UxqsTNWGKZzB"
      },
      "source": [
        "## 4. List Comprehensions: Concise Coding\n"
      ]
    },
    {
      "cell_type": "code",
      "execution_count": 6,
      "metadata": {
        "id": "YX6PSapuKZzC",
        "outputId": "16265700-d754-484a-c240-b07adb21c469",
        "colab": {
          "base_uri": "https://localhost:8080/"
        }
      },
      "outputs": [
        {
          "output_type": "stream",
          "name": "stdout",
          "text": [
            "Cubes (loop): [8, 64, 216, 512, 1000]\n",
            "Cubes (comprehension): [8, 64, 216, 512, 1000]\n",
            "Numbers > 5: [6, 8, 10]\n"
          ]
        }
      ],
      "source": [
        "digits = [2, 4, 6, 8, 10]\n",
        "\n",
        "# Loop method to get cubes\n",
        "cubes_loop = []\n",
        "for val in digits:\n",
        "    cubes_loop.append(val ** 3)\n",
        "print(\"Cubes (loop):\", cubes_loop)\n",
        "\n",
        "# List comprehension to get cubes\n",
        "cubes_comp = [val ** 3 for val in digits]\n",
        "print(\"Cubes (comprehension):\", cubes_comp)\n",
        "\n",
        "# List comprehension with condition to get numbers > 5\n",
        "greater_than_five = [val for val in digits if val > 5]\n",
        "print(\"Numbers > 5:\", greater_than_five)\n"
      ]
    },
    {
      "cell_type": "markdown",
      "metadata": {
        "id": "ALTBja_IKZzD"
      },
      "source": [
        "### Try It Yourself: List Comprehensions\n"
      ]
    },
    {
      "cell_type": "code",
      "execution_count": 7,
      "metadata": {
        "id": "D1eY3WYYKZzE",
        "outputId": "490fc10e-63c5-4646-c505-cf48a5f1b70d",
        "colab": {
          "base_uri": "https://localhost:8080/"
        }
      },
      "outputs": [
        {
          "output_type": "stream",
          "name": "stdout",
          "text": [
            "Cubes: [1, 8, 27, 64, 125]\n",
            "Odd numbers: [11, 13, 15]\n"
          ]
        }
      ],
      "source": [
        "# Using for loop inside list comprehension to get cubes\n",
        "cubes = [n ** 3 for n in range(1, 6)]\n",
        "print(\"Cubes:\", cubes)\n",
        "\n",
        "# Using for loop with condition inside list comprehension to get odd numbers\n",
        "numbers = [10, 11, 12, 13, 14, 15]\n",
        "odds = [num for num in numbers if num % 2 != 0]\n",
        "print(\"Odd numbers:\", odds)\n"
      ]
    },
    {
      "cell_type": "markdown",
      "metadata": {
        "id": "Nbu2fkujKZzF"
      },
      "source": [
        "## 5. Mini-Challenge: Putting It All Together\n"
      ]
    },
    {
      "cell_type": "code",
      "execution_count": 8,
      "metadata": {
        "id": "Uc0x2pEYKZzG",
        "outputId": "f9a64ec4-dfa9-46ea-c341-be4754e21bab",
        "colab": {
          "base_uri": "https://localhost:8080/"
        }
      },
      "outputs": [
        {
          "output_type": "stream",
          "name": "stdout",
          "text": [
            "Items with >5 units: ['marker', 'eraser']\n",
            "Common items: {'marker'}\n"
          ]
        }
      ],
      "source": [
        "store = {\"marker\": 12, \"folder\": 4, \"eraser\": 9}\n",
        "\n",
        "# Using for loop with condition inside list comprehension to find high stock items\n",
        "plenty = [item for item, qty in store.items() if qty > 5]\n",
        "print(\"Items with >5 units:\", plenty)\n",
        "\n",
        "available_items = set(store.keys())\n",
        "required = {\"marker\", \"stapler\"}\n",
        "\n",
        "print(\"Common items:\", available_items.intersection(required))\n"
      ]
    },
    {
      "cell_type": "markdown",
      "metadata": {
        "id": "PpOZDPclKZzH"
      },
      "source": [
        "### homework task using different movie names, ratings, and genres:"
      ]
    },
    {
      "cell_type": "code",
      "execution_count": 9,
      "metadata": {
        "colab": {
          "base_uri": "https://localhost:8080/"
        },
        "id": "_esY3PoUKZzI",
        "outputId": "e723edca-dd72-4333-c0b4-61590202ffa4"
      },
      "outputs": [
        {
          "output_type": "stream",
          "name": "stdout",
          "text": [
            "My movies: {'Interstellar': 9, 'Parasite': 8, 'Joker': 9, 'Tenet': 6, 'Frozen': 7}\n",
            "Movies with rating > 7: ['Interstellar', 'Parasite', 'Joker']\n",
            "Common genres with friend: {'Drama', 'Sci-Fi'}\n"
          ]
        }
      ],
      "source": [
        "films = {\n",
        "    \"Interstellar\": 9,\n",
        "    \"Parasite\": 8,\n",
        "    \"Joker\": 9,\n",
        "    \"Tenet\": 6,\n",
        "    \"Frozen\": 7\n",
        "}\n",
        "print(\"My movies:\", films)\n",
        "\n",
        "# Using list comprehension to find movies with rating > 7\n",
        "top_movies = [title for title, score in films.items() if score > 7]\n",
        "print(\"Movies with rating > 7:\", top_movies)\n",
        "\n",
        "# My favorite genres\n",
        "my_genres = {\"Thriller\", \"Sci-Fi\", \"Drama\", \"Mystery\"}\n",
        "\n",
        "# Friend's favorite genres\n",
        "friend_genres = {\"Drama\", \"Romance\", \"Sci-Fi\"}\n",
        "\n",
        "# Find common genres\n",
        "shared_genres = my_genres.intersection(friend_genres)\n",
        "print(\"Common genres with friend:\", shared_genres)\n"
      ]
    }
  ],
  "metadata": {
    "kernelspec": {
      "display_name": "Python 3",
      "language": "python",
      "name": "python3"
    },
    "language_info": {
      "codemirror_mode": {
        "name": "ipython",
        "version": 3
      },
      "file_extension": ".py",
      "mimetype": "text/x-python",
      "name": "python",
      "nbconvert_exporter": "python",
      "pygments_lexer": "ipython3",
      "version": "3.8.5"
    },
    "colab": {
      "provenance": []
    }
  },
  "nbformat": 4,
  "nbformat_minor": 0
}